{
 "cells": [
  {
   "cell_type": "markdown",
   "metadata": {},
   "source": [
    "\n",
    "[NYC Coronavirus Data](https://github.com/nychealth/coronavirus-data)"
   ]
  },
  {
   "cell_type": "markdown",
   "metadata": {},
   "source": [
    "- [ ] Line Chart\n",
    "- [ ] Pie Chart\n",
    "- [ ] Bar Chart\n",
    "- [ ] Histogram\n",
    "- [ ] Scatterplot\n",
    "<br>\n",
    "- [ ] Include URL & desc. of data\n",
    "- [ ] 3 min. story\n",
    "- [ ] Clearly readable, titled, labeled"
   ]
  },
  {
   "cell_type": "code",
   "execution_count": null,
   "metadata": {},
   "outputs": [],
   "source": [
    "import matplotlib.pyplot as plt\n",
    "import matplotlib.dates as mdates\n",
    "import pandas as pd\n",
    "\n",
    "fig = plt.figure(figsize=(20, 15))\n",
    "plt.subplots_adjust(wspace=.5, hspace=.5)\n",
    "\n",
    "color = ['#FFB266','#99FFFF','#FF9999','#CCFF99','#CC99FF']  # softer colors\n",
    "\n",
    "daily_cases = pd.read_csv(\"cases-by-day.csv\")\n",
    "\n",
    "by_boro = pd.read_csv(\"by-boro.csv\")\n",
    "by_boro = by_boro.sort_values(\"CASE_COUNT\", ascending=False)\n",
    "\n",
    "by_age = pd.read_csv(\"group-cases-by-boro.csv\")\n",
    "for col in [\"group\", \"BK_CASE_RATE\", \"BX_CASE_RATE\", \"QN_CASE_RATE\", \"MN_CASE_RATE\", \"SI_CASE_RATE\"]:\n",
    "    by_age = by_age.drop(col, 1)\n",
    "for row in [0,11,12,13,14,15,16]:\n",
    "    by_age = by_age.drop(row, 0)\n",
    "by_age = by_age.T"
   ]
  },
  {
   "cell_type": "code",
   "execution_count": null,
   "metadata": {},
   "outputs": [],
   "source": [
    "ax1 = fig.add_subplot(3, 2, 1)\n",
    "\n",
    "ax1.plot(\n",
    "    daily_cases[\"date_of_interest\"], \n",
    "    daily_cases[\"CASE_COUNT\"], \n",
    "    color=color[2],\n",
    ")\n",
    "\n",
    "ax1.xaxis.set_major_locator(mdates.MonthLocator())\n",
    "[tick.set_rotation(45) for tick in ax1.get_xticklabels()]\n",
    "ax1.title.set_text(\"Cases per Day\")"
   ]
  },
  {
   "cell_type": "code",
   "execution_count": null,
   "metadata": {},
   "outputs": [],
   "source": [
    "ax2 = fig.add_subplot(3, 4, 3)\n",
    "\n",
    "ax2.pie(\n",
    "    by_boro[\"CASE_COUNT\"][1:],\n",
    "    colors=color,\n",
    "    labels=by_boro[\"BOROUGH_GROUP\"][1:],\n",
    "    autopct=\"%1.1f%%\"\n",
    ")\n",
    "ax2.title.set_text(\"Cases by Borough\")"
   ]
  },
  {
   "cell_type": "code",
   "execution_count": null,
   "metadata": {},
   "outputs": [],
   "source": [
    "ax3 = fig.add_subplot(3, 4, 7)\n",
    "\n",
    "ax3.bar(\n",
    "    by_boro[\"BOROUGH_GROUP\"][1:],\n",
    "    by_boro[\"CASE_COUNT\"][1:],\n",
    "    color=color\n",
    ")\n",
    "[tick.set_rotation(45) for tick in ax3.get_xticklabels()]\n",
    "ax3.title.set_text(\"Cases by Borough\")"
   ]
  },
  {
   "cell_type": "code",
   "execution_count": null,
   "metadata": {},
   "outputs": [],
   "source": [
    "ax4 = fig.add_subplot(3, 2, 5)\n",
    "\n",
    "ax4.hist(\n",
    "    by_age[1:]\n",
    ")\n",
    "ax4.title.set_text(\"Untitled Histogram\")"
   ]
  },
  {
   "cell_type": "code",
   "execution_count": null,
   "metadata": {},
   "outputs": [],
   "source": [
    "ax5 = fig.add_subplot(3, 2, 3)\n",
    "size = 10\n",
    "\n",
    "ax5.scatter(\n",
    "    daily_cases[\"date_of_interest\"],\n",
    "    daily_cases[\"QN_CASE_COUNT\"],\n",
    "    label=\"Queens\",\n",
    "    color=color[0],\n",
    "    s=size\n",
    ")\n",
    "ax5.scatter(\n",
    "    daily_cases[\"date_of_interest\"],\n",
    "    daily_cases[\"BK_CASE_COUNT\"],\n",
    "    label=\"Brooklyn\",\n",
    "    color=color[1],\n",
    "    s=size\n",
    ")\n",
    "ax5.scatter(\n",
    "    daily_cases[\"date_of_interest\"],\n",
    "    daily_cases[\"BX_CASE_COUNT\"],\n",
    "    label=\"Bronx\",\n",
    "    color=color[2],\n",
    "    s=size\n",
    ")\n",
    "ax5.scatter(\n",
    "    daily_cases[\"date_of_interest\"],\n",
    "    daily_cases[\"MN_CASE_COUNT\"],\n",
    "    label=\"Manhattan\",\n",
    "    color=color[3],\n",
    "    s=size\n",
    ")\n",
    "ax5.scatter(\n",
    "    daily_cases[\"date_of_interest\"],\n",
    "    daily_cases[\"SI_CASE_COUNT\"],\n",
    "    label=\"StatenIsland\",\n",
    "    color=color[4],\n",
    "    s=size\n",
    ")\n",
    "\n",
    "ax5.xaxis.set_major_locator(mdates.MonthLocator())\n",
    "[tick.set_rotation(45) for tick in ax5.get_xticklabels()]\n",
    "ax5.title.set_text(\"Cases per Day by Borough\")\n",
    "ax5.legend(loc='upper left');"
   ]
  },
  {
   "cell_type": "code",
   "execution_count": null,
   "metadata": {},
   "outputs": [],
   "source": [
    "fig"
   ]
  }
 ],
 "metadata": {
  "kernelspec": {
   "display_name": "Python 3",
   "language": "python",
   "name": "python3"
  },
  "language_info": {
   "codemirror_mode": {
    "name": "ipython",
    "version": 3
   },
   "file_extension": ".py",
   "mimetype": "text/x-python",
   "name": "python",
   "nbconvert_exporter": "python",
   "pygments_lexer": "ipython3",
   "version": "3.8.3"
  }
 },
 "nbformat": 4,
 "nbformat_minor": 4
}
