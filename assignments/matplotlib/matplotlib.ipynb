{
 "cells": [
  {
   "cell_type": "markdown",
   "metadata": {},
   "source": [
    "\n",
    "[NYC Coronavirus Data](https://github.com/nychealth/coronavirus-data)"
   ]
  },
  {
   "cell_type": "markdown",
   "metadata": {},
   "source": [
    "- [ ] Line Chart\n",
    "- [ ] Pie Chart\n",
    "- [ ] Bar Chart\n",
    "- [ ] Histogram\n",
    "- [ ] Scatterplot\n",
    "<br>\n",
    "- [ ] Include URL & desc. of data\n",
    "- [ ] 3 min. story\n",
    "- [ ] Clearly readable, titled, labeled"
   ]
  },
  {
   "cell_type": "code",
   "execution_count": null,
   "metadata": {},
   "outputs": [],
   "source": [
    "import matplotlib.pyplot as plt\n",
    "import pandas as pd\n",
    "\n",
    "fig = plt.figure(figsize=(10, 15))\n",
    "plt.subplots_adjust(wspace=1, hspace=1)\n",
    "\n",
    "color = ['#FF9999','#CCFF99','#99FFFF','#CC99FF','#FFB266']  # softer colors"
   ]
  },
  {
   "cell_type": "code",
   "execution_count": null,
   "metadata": {},
   "outputs": [],
   "source": [
    "daily_cases = pd.read_csv(\"cases-by-day.csv\")\n",
    "\n",
    "ax1 = fig.add_subplot(3, 2, 1)\n",
    "\n",
    "ax1.plot(\n",
    "    daily_cases[\"date_of_interest\"], \n",
    "    daily_cases[\"CASE_COUNT\"], \n",
    "    color=color[0],\n",
    ")\n",
    "ax1.title.set_text(\"Cases by Day\")\n",
    "\n",
    "fig"
   ]
  },
  {
   "cell_type": "code",
   "execution_count": null,
   "metadata": {},
   "outputs": [],
   "source": [
    "by_boro = pd.read_csv(\"by-boro.csv\")\n",
    "\n",
    "ax2 = fig.add_subplot(3, 2, 2)\n",
    "\n",
    "ax2.pie(\n",
    "    by_boro[\"CASE_COUNT\"][:-1],\n",
    "    colors=color,\n",
    "    labels=by_boro[\"BOROUGH_GROUP\"][:-1],\n",
    "    autopct=\"%1.1f%%\"\n",
    ")\n",
    "ax2.title.set_text(\"Cases by Borough\")\n",
    "\n",
    "fig"
   ]
  },
  {
   "cell_type": "code",
   "execution_count": null,
   "metadata": {},
   "outputs": [],
   "source": [
    "ax3 = fig.add_subplot(3, 2, 3)\n",
    "\n",
    "ax3.bar(\n",
    "    by_boro[\"BOROUGH_GROUP\"][:-1],\n",
    "    by_boro[\"CASE_COUNT\"][:-1],\n",
    "    color=color,\n",
    ")\n",
    "ax3.title.set_text(\"Cases by Borough\")\n",
    "\n",
    "fig"
   ]
  },
  {
   "cell_type": "code",
   "execution_count": null,
   "metadata": {},
   "outputs": [],
   "source": []
  }
 ],
 "metadata": {
  "kernelspec": {
   "display_name": "Python 3",
   "language": "python",
   "name": "python3"
  },
  "language_info": {
   "codemirror_mode": {
    "name": "ipython",
    "version": 3
   },
   "file_extension": ".py",
   "mimetype": "text/x-python",
   "name": "python",
   "nbconvert_exporter": "python",
   "pygments_lexer": "ipython3",
   "version": "3.8.3"
  }
 },
 "nbformat": 4,
 "nbformat_minor": 4
}
