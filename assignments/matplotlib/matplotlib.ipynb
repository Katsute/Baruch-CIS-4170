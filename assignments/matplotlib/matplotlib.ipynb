{
 "cells": [
  {
   "cell_type": "markdown",
   "metadata": {},
   "source": [
    "## ����� ���� - CIS 4170 Data Visualization - matplotlib Dashboard\n",
    "\n",
    "- [NYC Coronavirus Data](https://github.com/nychealth/coronavirus-data) - Coronavirus case data for New York City"
   ]
  },
  {
   "cell_type": "markdown",
   "metadata": {},
   "source": [
    "From day 1 New York City has provided their case counts publicly to promote transparency; using the provided data, we can determine case loads over time and by location. Initially case loads were low, averaging less than a 100 cases, mainly due to slow reporting and lack a resources dedicated to reporting cases. Cases reached an all time high, averaging 5 thousand daily cases, caused from uncontrolled spread from previous months and New York's aggressive campaign to test and trace new cases. As New York enacted lock down measures and travel bans, cases subsequently declines in the later months as everyone switched to remote workspaces and taking new measures to fight the virus. Around the holiday season cases began to spike to March levels in a second wave of new cases, mainly caused by holiday travel and ignorance of COVID guidelines. The effects of post-holiday travel and gatherings resulted in a higher average case count in the city, roughly 3 thousand daily cases, and only recently have started to decline partially due to the vaccine rollout. Over the year, majority of the cases have consistently come from the outer boroughs, Brooklyn, Queens, and the Bronx; citywide, cases have mainly come from those aged 18 and older. With these trends we can expect cases to decline first within the city then to the boroughs as the vaccine rollout continues."
   ]
  },
  {
   "cell_type": "markdown",
   "metadata": {},
   "source": [
    "[scroll to bottom](#Figure)"
   ]
  },
  {
   "cell_type": "markdown",
   "metadata": {},
   "source": [
    "### Import Data"
   ]
  },
  {
   "cell_type": "code",
   "execution_count": null,
   "metadata": {
    "scrolled": true
   },
   "outputs": [],
   "source": [
    "import matplotlib.pyplot as plt\n",
    "import matplotlib.dates as mdates\n",
    "import pandas as pd\n",
    "import numpy as np\n",
    "\n",
    "fig = plt.figure(figsize=(20, 25))\n",
    "plt.subplots_adjust(wspace=.5, hspace=.5)\n",
    "\n",
    "color = ['#FFB266','#99FFFF','#FF9999','#CCFF99','#CC99FF']  # softer colors\n",
    "\n",
    "daily_cases = pd.read_csv(\"cases-by-day.csv\")\n",
    "\n",
    "by_boro = pd.read_csv(\"by-boro.csv\")\n",
    "by_boro = by_boro.sort_values(\"CASE_COUNT\", ascending=False)\n",
    "\n",
    "by_age = pd.read_csv(\"group-cases-by-boro.csv\")\n",
    "\n",
    "for col in [\"group\", \"BK_CASE_RATE\", \"BX_CASE_RATE\", \"QN_CASE_RATE\", \"MN_CASE_RATE\", \"SI_CASE_RATE\"]:\n",
    "    by_age = by_age.drop(col, 1)\n",
    "for row in [0,11,12,13,14,15,16]:\n",
    "    by_age = by_age.drop(row, 0)\n",
    "by_age = by_age.T\n",
    "\n",
    "age_sum = {}\n",
    "for k, v in by_age.items():\n",
    "    age_sum[v[0].split('-')[0] if '-' in v[0] else v[0]] = v[1:].sum()"
   ]
  },
  {
   "cell_type": "markdown",
   "metadata": {},
   "source": [
    "### Line Chart "
   ]
  },
  {
   "cell_type": "code",
   "execution_count": null,
   "metadata": {},
   "outputs": [],
   "source": [
    "ax1 = fig.add_subplot(4, 1, 1)\n",
    "\n",
    "ax1.plot(\n",
    "    daily_cases[\"date_of_interest\"], \n",
    "    daily_cases[\"CASE_COUNT\"], \n",
    "    color=color[2],\n",
    "    linewidth=4\n",
    ")\n",
    "\n",
    "ax1.xaxis.set_major_locator(mdates.MonthLocator())\n",
    "[tick.set_rotation(45) for tick in ax1.get_xticklabels()]\n",
    "ax1.title.set_text(\"Cases per Day\")\n",
    "ax1.set_xlabel(\"Day\")\n",
    "ax1.set_ylabel(\"Case Count\")\n",
    "ax1.set_facecolor(\"#222222\")\n",
    "ax1.grid()"
   ]
  },
  {
   "cell_type": "markdown",
   "metadata": {},
   "source": [
    "### Pie Chart"
   ]
  },
  {
   "cell_type": "code",
   "execution_count": null,
   "metadata": {},
   "outputs": [],
   "source": [
    "ax2 = fig.add_subplot(4, 2, 5)\n",
    "\n",
    "ax2.pie(\n",
    "    by_boro[\"CASE_COUNT\"][1:],\n",
    "    colors=color,\n",
    "    labels=by_boro[\"BOROUGH_GROUP\"][1:],\n",
    "    autopct=\"%1.1f%%\"\n",
    ")\n",
    "ax2.title.set_text(\"Cases by Borough\")"
   ]
  },
  {
   "cell_type": "markdown",
   "metadata": {},
   "source": [
    "### Bar Chart"
   ]
  },
  {
   "cell_type": "code",
   "execution_count": null,
   "metadata": {},
   "outputs": [],
   "source": [
    "ax3 = fig.add_subplot(4, 2, 6)\n",
    "\n",
    "ax3.bar(\n",
    "    by_boro[\"BOROUGH_GROUP\"][1:],\n",
    "    by_boro[\"CASE_COUNT\"][1:],\n",
    "    color=color\n",
    ")\n",
    "[tick.set_rotation(45) for tick in ax3.get_xticklabels()]\n",
    "ax3.title.set_text(\"Cases by Borough\")\n",
    "ax3.set_xlabel(\"Borough\")\n",
    "ax3.set_ylabel(\"Case Count\")"
   ]
  },
  {
   "cell_type": "markdown",
   "metadata": {},
   "source": [
    "### Histogram"
   ]
  },
  {
   "cell_type": "code",
   "execution_count": null,
   "metadata": {},
   "outputs": [],
   "source": [
    "ax4 = fig.add_subplot(4, 2, 7)\n",
    "\n",
    "ax4.hist(\n",
    "    age_sum.keys(),\n",
    "    weights=age_sum.values(),\n",
    "    color = color[2],\n",
    "    bins=range(10) # fix x axis not lining up with bars\n",
    ")\n",
    "ax4.title.set_text(\"Case Distribution by Age\")\n",
    "ax4.set_xlabel(\"Age\")\n",
    "ax4.set_ylabel(\"Case Count\")"
   ]
  },
  {
   "cell_type": "markdown",
   "metadata": {},
   "source": [
    "### Scatterplot"
   ]
  },
  {
   "cell_type": "code",
   "execution_count": null,
   "metadata": {},
   "outputs": [],
   "source": [
    "ax5 = fig.add_subplot(4, 1, 2)\n",
    "size = 15\n",
    "\n",
    "ax5.scatter(\n",
    "    daily_cases[\"date_of_interest\"],\n",
    "    daily_cases[\"QN_CASE_COUNT\"],\n",
    "    label=\"Queens\",\n",
    "    color=color[0],\n",
    "    s=size\n",
    ")\n",
    "ax5.scatter(\n",
    "    daily_cases[\"date_of_interest\"],\n",
    "    daily_cases[\"BK_CASE_COUNT\"],\n",
    "    label=\"Brooklyn\",\n",
    "    color=color[1],\n",
    "    s=size\n",
    ")\n",
    "ax5.scatter(\n",
    "    daily_cases[\"date_of_interest\"],\n",
    "    daily_cases[\"BX_CASE_COUNT\"],\n",
    "    label=\"Bronx\",\n",
    "    color=color[2],\n",
    "    s=size\n",
    ")\n",
    "ax5.scatter(\n",
    "    daily_cases[\"date_of_interest\"],\n",
    "    daily_cases[\"MN_CASE_COUNT\"],\n",
    "    label=\"Manhattan\",\n",
    "    color=color[3],\n",
    "    s=size\n",
    ")\n",
    "ax5.scatter(\n",
    "    daily_cases[\"date_of_interest\"],\n",
    "    daily_cases[\"SI_CASE_COUNT\"],\n",
    "    label=\"StatenIsland\",\n",
    "    color=color[4],\n",
    "    s=size\n",
    ")\n",
    "\n",
    "ax5.xaxis.set_major_locator(mdates.MonthLocator())\n",
    "[tick.set_rotation(45) for tick in ax5.get_xticklabels()]\n",
    "ax5.title.set_text(\"Cases per Day by Borough\")\n",
    "ax5.legend(loc='upper left')\n",
    "ax5.set_xlabel(\"Borough\")\n",
    "ax5.set_ylabel(\"Case Count\")\n",
    "ax5.set_facecolor(\"#222222\")\n",
    "ax5.grid()"
   ]
  },
  {
   "cell_type": "markdown",
   "metadata": {},
   "source": [
    "## Figure"
   ]
  },
  {
   "cell_type": "code",
   "execution_count": null,
   "metadata": {
    "scrolled": false
   },
   "outputs": [],
   "source": [
    "fig"
   ]
  }
 ],
 "metadata": {
  "kernelspec": {
   "display_name": "Python 3",
   "language": "python",
   "name": "python3"
  },
  "language_info": {
   "codemirror_mode": {
    "name": "ipython",
    "version": 3
   },
   "file_extension": ".py",
   "mimetype": "text/x-python",
   "name": "python",
   "nbconvert_exporter": "python",
   "pygments_lexer": "ipython3",
   "version": "3.8.3"
  }
 },
 "nbformat": 4,
 "nbformat_minor": 4
}
