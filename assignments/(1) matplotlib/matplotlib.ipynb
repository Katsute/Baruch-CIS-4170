{
 "cells": [
  {
   "cell_type": "markdown",
   "metadata": {},
   "source": [
    "\n",
    "[NYC Coronavirus Data](https://github.com/nychealth/coronavirus-data)"
   ]
  },
  {
   "cell_type": "markdown",
   "metadata": {},
   "source": [
    "- [ ] Line Chart\n",
    "- [ ] Pie Chart\n",
    "- [ ] Bar Chart\n",
    "- [ ] Histogram\n",
    "- [ ] Scatterplot\n",
    "<br>\n",
    "- [ ] Include URL & desc. of data\n",
    "- [ ] 3 min. story\n",
    "- [ ] Clearly readable, titled, labeld"
   ]
  },
  {
   "cell_type": "code",
   "execution_count": null,
   "metadata": {},
   "outputs": [],
   "source": []
  }
 ],
 "metadata": {
  "kernelspec": {
   "display_name": "Python 3",
   "language": "python",
   "name": "python3"
  },
  "language_info": {
   "codemirror_mode": {
    "name": "ipython",
    "version": 3
   },
   "file_extension": ".py",
   "mimetype": "text/x-python",
   "name": "python",
   "nbconvert_exporter": "python",
   "pygments_lexer": "ipython3",
   "version": "3.8.3"
  }
 },
 "nbformat": 4,
 "nbformat_minor": 4
}
