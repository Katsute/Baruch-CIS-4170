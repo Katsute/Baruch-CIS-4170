{
 "cells": [
  {
   "cell_type": "markdown",
   "metadata": {},
   "source": [
    "# patches"
   ]
  },
  {
   "cell_type": "code",
   "execution_count": null,
   "metadata": {},
   "outputs": [],
   "source": [
    "import matplotlib.pyplot as plt\n",
    "import matplotlib\n",
    "import pandas as pd\n",
    "import numpy as np\n",
    "plt.rc('figure', figsize=(10, 6))"
   ]
  },
  {
   "cell_type": "code",
   "execution_count": null,
   "metadata": {},
   "outputs": [],
   "source": [
    "fig = plt.figure(figsize=(6, 6))   #figsize: width, height in inches. \n",
    "                                   #If not provided, defaults to rcParams[\"figure.figsize\"] = [6.4, 4.8]\n",
    "\n",
    "ax = fig.add_subplot(1, 1, 1)\n",
    "\n",
    "# Rectangle\n",
    "# xy - the bottom left rectangle coordinates\n",
    "# alpha - float (0.0 transparent through 1.0 opaque)\n",
    "rect = plt.Rectangle(xy=(0.2, 0.75), width=0.4, height=0.15, \n",
    "                     color='k', alpha=.3)\n",
    "\n",
    "# Circle\n",
    "#xy - circle center\n",
    "circ = plt.Circle(xy=(0.7, 0.2), radius=0.15, color='b', alpha=.3)\n",
    "\n",
    "\n",
    "# Polygon\n",
    "pgon = plt.Polygon(xy=[[0.15, 0.15], [0.35, 0.4], [0.2, 0.6]],\n",
    "                   color='g', alpha=.3)\n",
    "\n",
    "ax.add_patch(rect)\n",
    "ax.add_patch(circ)\n",
    "ax.add_patch(pgon)"
   ]
  }
 ],
 "metadata": {
  "kernelspec": {
   "display_name": "Python 3",
   "language": "python",
   "name": "python3"
  },
  "language_info": {
   "codemirror_mode": {
    "name": "ipython",
    "version": 3
   },
   "file_extension": ".py",
   "mimetype": "text/x-python",
   "name": "python",
   "nbconvert_exporter": "python",
   "pygments_lexer": "ipython3",
   "version": "3.8.3"
  }
 },
 "nbformat": 4,
 "nbformat_minor": 4
}
