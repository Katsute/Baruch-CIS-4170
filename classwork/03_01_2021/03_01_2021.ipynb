{
 "cells": [
  {
   "cell_type": "markdown",
   "metadata": {},
   "source": [
    "# Pie Chart"
   ]
  },
  {
   "cell_type": "code",
   "execution_count": null,
   "metadata": {},
   "outputs": [],
   "source": [
    "import matplotlib.pyplot as plt\n",
    "import pandas as pd"
   ]
  },
  {
   "cell_type": "code",
   "execution_count": null,
   "metadata": {},
   "outputs": [],
   "source": [
    "# Bare minimum\n",
    "values = [10, 20]\n",
    "plt.pie(values)\n",
    "plt.show()"
   ]
  },
  {
   "cell_type": "code",
   "execution_count": null,
   "metadata": {},
   "outputs": [],
   "source": [
    "values=[5,8,9,10]\n",
    "colors=['green', 'orange', 'yellow', 'gray']\n",
    "labels=['a','b','c','d']\n",
    "explode= [0, 0, 0, 0.5] # dist from center\n",
    "\n",
    "plt.pie(values,\n",
    "        colors=colors,\n",
    "        labels=labels,\n",
    "        explode=explode,\n",
    "        autopct=\"%1.1f%%\", # format\n",
    "        counterclock=True,\n",
    "        shadow=True\n",
    ")\n",
    "\n",
    "plt.title(\"Pie Chart\")\n",
    "plt.show()"
   ]
  },
  {
   "cell_type": "markdown",
   "metadata": {},
   "source": [
    "## From DataFrame"
   ]
  },
  {
   "cell_type": "code",
   "execution_count": null,
   "metadata": {},
   "outputs": [],
   "source": [
    "df = pd.DataFrame({\"mass\": [0.330, 4.87, 5.97],\"radius\": [2439.7,6051.8,6378.1]},index=[\"Mercury\",\"Venus\",\"Earth\"])\n",
    "print(df)\n",
    "plot = df.plot.pie(y=\"mass\", figsize=(5, 5))"
   ]
  },
  {
   "cell_type": "code",
   "execution_count": null,
   "metadata": {},
   "outputs": [],
   "source": [
    "df['mass'].plot(kind='pie', figsize=(5,5))"
   ]
  },
  {
   "cell_type": "markdown",
   "metadata": {},
   "source": [
    "# Bar Chart\n",
    "\n",
    "Recommended for categorical"
   ]
  },
  {
   "cell_type": "code",
   "execution_count": null,
   "metadata": {},
   "outputs": [],
   "source": [
    "import matplotlib.pyplot as plt\n",
    "import numpy as np\n",
    "import pandas as pd"
   ]
  },
  {
   "cell_type": "code",
   "execution_count": null,
   "metadata": {},
   "outputs": [],
   "source": [
    "# Bare minimum\n",
    "x = range(0, 5)\n",
    "values = [5, 6, 5, 5, 4]\n",
    "\n",
    "plt.bar(x, values)"
   ]
  },
  {
   "cell_type": "code",
   "execution_count": null,
   "metadata": {},
   "outputs": [],
   "source": [
    "left = ['a', 'b', 'c', 'd', 'e']\n",
    "values = [5,6,5,5,4]\n",
    "widths = [0.7,0.7,0.7,0.7,0.9]\n",
    "colors = ['g', 'g', 'g', 'g', 'r']\n",
    "\n",
    "# edge is where the key is located (a is on the left instead of center)\n",
    "# hatch is the design\n",
    "\n",
    "plt.bar(left, values, width=widths,color=colors, align=\"edge\", hatch=\"o\")\n",
    "plt.show()"
   ]
  },
  {
   "cell_type": "markdown",
   "metadata": {},
   "source": [
    "## From DataFrame"
   ]
  },
  {
   "cell_type": "code",
   "execution_count": null,
   "metadata": {},
   "outputs": [],
   "source": [
    "np.random.seed(12348)\n",
    "arr = np.random.rand(6, 4) # rand grid\n",
    "\n",
    "df = pd.DataFrame(arr, \n",
    "                  index=['uk','monaco','czech','france','austria','italy'],\n",
    "                  columns=pd.Index([2018, 2019, 2020, 2021], name='Country'))\n",
    "df"
   ]
  },
  {
   "cell_type": "code",
   "execution_count": null,
   "metadata": {},
   "outputs": [],
   "source": [
    "df.plot.bar()"
   ]
  },
  {
   "cell_type": "code",
   "execution_count": null,
   "metadata": {},
   "outputs": [],
   "source": [
    "df.plot.bar(stacked=True)"
   ]
  },
  {
   "cell_type": "code",
   "execution_count": null,
   "metadata": {},
   "outputs": [],
   "source": [
    "df.plot.barh()  # horizontal"
   ]
  },
  {
   "cell_type": "code",
   "execution_count": null,
   "metadata": {},
   "outputs": [],
   "source": [
    "df.plot.barh(stacked=True, alpha=0.5)"
   ]
  },
  {
   "cell_type": "code",
   "execution_count": null,
   "metadata": {},
   "outputs": [],
   "source": [
    "df[2018].plot.bar()  # single col"
   ]
  },
  {
   "cell_type": "markdown",
   "metadata": {},
   "source": [
    "### Bar"
   ]
  },
  {
   "cell_type": "code",
   "execution_count": null,
   "metadata": {},
   "outputs": [],
   "source": [
    "# mpl\n",
    "import matplotlib.pyplot as plt\n",
    "import numpy as np\n",
    "import pandas as pd"
   ]
  },
  {
   "cell_type": "code",
   "execution_count": null,
   "metadata": {},
   "outputs": [],
   "source": [
    "src = pd.read_csv(\"https://raw.githubusercontent.com/mwaskom/seaborn-data/master/tips.csv\")"
   ]
  },
  {
   "cell_type": "code",
   "execution_count": null,
   "metadata": {},
   "outputs": [],
   "source": [
    "# cross tabulate\n",
    "ct = pd.crosstab(index=src['day'], columns=src['size'])\n",
    "ct"
   ]
  },
  {
   "cell_type": "code",
   "execution_count": null,
   "metadata": {},
   "outputs": [],
   "source": [
    "ct.sum(axis=1)"
   ]
  },
  {
   "cell_type": "code",
   "execution_count": null,
   "metadata": {},
   "outputs": [],
   "source": [
    "ct = ct.div(ct.sum(axis=1), axis=0) # divide size by sum of size to get 100% chart ?"
   ]
  },
  {
   "cell_type": "code",
   "execution_count": null,
   "metadata": {},
   "outputs": [],
   "source": [
    "# display\n",
    "df = pd.DataFrame(ct, \n",
    "                  index=pd.Index(['Thur','Fri','Sat','Sun'], name='day'), #cols\n",
    "                  columns=pd.Index([1,2,3,4,5,6], name='size'))  # size\n",
    "\n",
    "df.plot.bar(stacked=True)"
   ]
  },
  {
   "cell_type": "markdown",
   "metadata": {},
   "source": [
    "# SubPlots"
   ]
  },
  {
   "cell_type": "code",
   "execution_count": null,
   "metadata": {},
   "outputs": [],
   "source": [
    "import matplotlib.pyplot as plt\n",
    "import pandas as pd\n",
    "import numpy as np\n",
    "from numpy.random import randn"
   ]
  },
  {
   "cell_type": "code",
   "execution_count": null,
   "metadata": {},
   "outputs": [],
   "source": [
    "arr = np.array([1, 2, 3, 4])\n",
    "\n",
    "fig = plt.figure()\n",
    "\n",
    "# first two args is the grid and the last arg is the index.\n",
    "# subplots are in a sense placed one on top of another\n",
    "# (figure doesn't control subplots).\n",
    "ax1 = fig.add_subplot(2, 2, 1) # cols, rows, subplot num\n",
    "ax3 = fig.add_subplot(2, 2, 3)\n",
    "\n",
    "plt.plot(randn(50).cumsum(), 'k--')  # plots onto the most recently added subplot"
   ]
  },
  {
   "cell_type": "code",
   "execution_count": null,
   "metadata": {},
   "outputs": [],
   "source": [
    "ax1.hist(randn(100), bins=20, color='k', alpha=.3) # modify existing plots\n",
    "ax2 = fig.add_subplot(2, 2, 2)\n",
    "ax2.scatter(np.arange(30), np.arange(30) + 3 * randn(30))\n",
    "fig"
   ]
  },
  {
   "cell_type": "markdown",
   "metadata": {},
   "source": [
    "# SubPlots (2)"
   ]
  },
  {
   "cell_type": "code",
   "execution_count": null,
   "metadata": {},
   "outputs": [],
   "source": [
    "import matplotlib.pyplot as plt\n",
    "import pandas as pd\n",
    "import numpy as np\n",
    "from numpy.random import randn"
   ]
  },
  {
   "cell_type": "code",
   "execution_count": null,
   "metadata": {},
   "outputs": [],
   "source": [
    "fig, axes = plt.subplots(2, 3) # y * x"
   ]
  },
  {
   "cell_type": "code",
   "execution_count": null,
   "metadata": {},
   "outputs": [],
   "source": [
    "axes[0, 0].hist(randn(500), bins=50, color='k', alpha=.5)\n",
    "axes[0, 1].hist(randn(500), bins=50, color='k', alpha=.5)\n",
    "axes[0, 2].hist(randn(500), bins=50, color='k', alpha=.5)\n",
    "axes[1, 0].hist(randn(500), bins=50, color='k', alpha=.5)\n",
    "axes[1, 1].hist(randn(500), bins=50, color='k', alpha=.5)\n",
    "axes[1, 2].hist(randn(500), bins=50, color='k', alpha=.5)\n",
    "\n",
    "plt.subplots_adjust(wspace=0, hspace=0)"
   ]
  },
  {
   "cell_type": "markdown",
   "metadata": {},
   "source": [
    "# Bar Plot (series)"
   ]
  },
  {
   "cell_type": "code",
   "execution_count": null,
   "metadata": {},
   "outputs": [],
   "source": [
    "import matplotlib.pyplot as plt\n",
    "import pandas as pd\n",
    "import numpy as np\n",
    "from numpy.random import randn"
   ]
  },
  {
   "cell_type": "code",
   "execution_count": null,
   "metadata": {},
   "outputs": [],
   "source": [
    "data = pd.Series(np.random.rand(16), index=list(\"abcdefghijklmnop\"))\n",
    "\n",
    "fig, axis = plt.subplots(2, 1)\n",
    "\n",
    "data.plot.bar(ax=axis[0], alpha=.5)\n",
    "data.plot.barh(ax=axis[1], color='k', alpha=0.5)"
   ]
  },
  {
   "cell_type": "code",
   "execution_count": null,
   "metadata": {},
   "outputs": [],
   "source": []
  }
 ],
 "metadata": {
  "kernelspec": {
   "display_name": "Python 3",
   "language": "python",
   "name": "python3"
  },
  "language_info": {
   "codemirror_mode": {
    "name": "ipython",
    "version": 3
   },
   "file_extension": ".py",
   "mimetype": "text/x-python",
   "name": "python",
   "nbconvert_exporter": "python",
   "pygments_lexer": "ipython3",
   "version": "3.8.3"
  }
 },
 "nbformat": 4,
 "nbformat_minor": 4
}
