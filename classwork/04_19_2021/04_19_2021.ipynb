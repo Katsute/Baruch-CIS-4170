{
 "cells": [
  {
   "cell_type": "markdown",
   "metadata": {},
   "source": [
    "|module|types|\n",
    "|---|---|\n",
    "|date|y/m/d|\n",
    "|time|h/min/s/ms/tz|\n",
    "|datetime|^ all above|\n",
    "|timedelta|duration to ms|\n",
    "|tzinfo|timezone & dst|"
   ]
  },
  {
   "cell_type": "markdown",
   "metadata": {},
   "source": [
    "datetime -> string\n",
    "```python\n",
    "str(timestamp)\n",
    "```\n",
    "string -> datetime\n",
    "```python\n",
    "dateutil.parser.parse(str)\n",
    "```"
   ]
  },
  {
   "cell_type": "code",
   "execution_count": null,
   "metadata": {},
   "outputs": [],
   "source": [
    "from datetime import datetime\n",
    "from datetime import date\n",
    "from datetime import timedelta\n",
    "\n",
    "import numpy as np\n",
    "import pandas as pd"
   ]
  },
  {
   "cell_type": "code",
   "execution_count": null,
   "metadata": {},
   "outputs": [],
   "source": [
    "now = datetime.now()\n",
    "print(now.year, now.month, now.day, now.hour, now.minute, now.second, now.microsecond, sep='\\n')"
   ]
  },
  {
   "cell_type": "code",
   "execution_count": null,
   "metadata": {},
   "outputs": [],
   "source": [
    "dt = datetime(2020, 4, 15, 0, 1)\n",
    "print(dt)"
   ]
  },
  {
   "cell_type": "code",
   "execution_count": null,
   "metadata": {},
   "outputs": [],
   "source": [
    "print(dt + timedelta(2)) # add 2 days"
   ]
  },
  {
   "cell_type": "code",
   "execution_count": null,
   "metadata": {},
   "outputs": [],
   "source": [
    "from dateutil.parser import parse\n",
    "\n",
    "print(parse(\"Apr 15, 2020 10:00 PM\"))\n",
    "print(parse(\"Apr 15, 2020 10:00 PM\", dayfirst = True))"
   ]
  },
  {
   "cell_type": "code",
   "execution_count": null,
   "metadata": {},
   "outputs": [],
   "source": [
    "datestr = [\"2018-11-18\", \"2018-11-19\"]\n",
    "print(pd.to_datetime(datestr))"
   ]
  },
  {
   "cell_type": "code",
   "execution_count": null,
   "metadata": {},
   "outputs": [],
   "source": [
    "print(dt > now) # conditionals"
   ]
  },
  {
   "cell_type": "code",
   "execution_count": null,
   "metadata": {},
   "outputs": [],
   "source": [
    "dates = [datetime(2019, 4, 1), datetime(2019, 4, 2), datetime(2019, 4, 3)]\n",
    "ts = pd.Series([1, 2, 3], index=dates)\n",
    "print(ts)\n",
    "print(ts.index)\n",
    "print(ts.truncate(after=\"2019/04/02\")) # print after\n",
    "print(ts.index.is_unique) # unique dates"
   ]
  },
  {
   "cell_type": "code",
   "execution_count": null,
   "metadata": {},
   "outputs": [],
   "source": [
    "g = pd.Series([1, 2, 3], index=[datetime(2019, 4, 1), datetime(2019, 4, 1), datetime(2019, 4, 2)])\n",
    "g.groupby(level=0)\n",
    "print(g.describe())"
   ]
  }
 ],
 "metadata": {
  "kernelspec": {
   "display_name": "Python 3",
   "language": "python",
   "name": "python3"
  },
  "language_info": {
   "codemirror_mode": {
    "name": "ipython",
    "version": 3
   },
   "file_extension": ".py",
   "mimetype": "text/x-python",
   "name": "python",
   "nbconvert_exporter": "python",
   "pygments_lexer": "ipython3",
   "version": "3.8.3"
  }
 },
 "nbformat": 4,
 "nbformat_minor": 4
}
