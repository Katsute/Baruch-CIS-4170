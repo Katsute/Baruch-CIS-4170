{
 "cells": [
  {
   "cell_type": "markdown",
   "metadata": {},
   "source": [
    "# Scatter Plot"
   ]
  },
  {
   "cell_type": "code",
   "execution_count": null,
   "metadata": {},
   "outputs": [],
   "source": [
    "import matplotlib.pyplot as plt\n",
    "\n",
    "x = [1, 2, 3, 4, 5, 6]\n",
    "y = [1, 2, 3, 4, 5, 6]\n",
    "\n",
    "plt.scatter(x, y, label='scatter', color='k')"
   ]
  },
  {
   "cell_type": "code",
   "execution_count": null,
   "metadata": {},
   "outputs": [],
   "source": [
    "import numpy as np\n",
    "import matplotlib.pyplot as plt\n",
    "import matplotlib.pylab as plb\n",
    "\n",
    "a = np.random.rand(3)\n",
    "print(a)\n",
    "print(10 * a + 100)  # multiply/add all elements"
   ]
  },
  {
   "cell_type": "code",
   "execution_count": null,
   "metadata": {},
   "outputs": [],
   "source": [
    "x1 = 5 * np.random.rand(50);  # middle\n",
    "x2 = 5 * np.random.rand(50) + 25;  # top (right)\n",
    "x3 = 30 * np.random.rand(25);  # bottom (left)\n",
    "x = np.concatenate((x1, x2, x3))  # merge\n",
    "\n",
    "y1 = 5 * np.random.rand(50);  # middle\n",
    "y2 = 5 * np.random.rand(50) + 25;  # (top) right\n",
    "y3 = 30 * np.random.rand(25);  # (bottom) left\n",
    "y = np.concatenate((y1, y2, y3))\n",
    "\n",
    "plt.scatter(x, y, s=30, marker='*')\n",
    "plt.show()"
   ]
  },
  {
   "cell_type": "code",
   "execution_count": null,
   "metadata": {},
   "outputs": [],
   "source": [
    "color_list = ['b'] * 50 + ['g'] * 50 + ['r'] * 25  # set color for each point\n",
    "print(color_list)\n",
    "'''\n",
    "first 50 will be blue, next 50 green, final 25 red.\n",
    "this is the order that we added them in with the concatenate method.\n",
    "this doesn't actually check values, the color is fixed.\n",
    "'''\n",
    "plt.scatter(x, y, c=color_list)\n",
    "plt.show()"
   ]
  },
  {
   "cell_type": "code",
   "execution_count": null,
   "metadata": {},
   "outputs": [],
   "source": [
    "plt.scatter(x, y, s=50, marker='D', c=color_list)\n",
    "\n",
    "z = np.polyfit(x, y, 1) # add line width 1\n",
    "p = np.poly1d(z) # ?\n",
    "plt.plot(x, p(x), 'm-') # add correlation\n",
    "\n",
    "plt.show()"
   ]
  },
  {
   "cell_type": "markdown",
   "metadata": {},
   "source": [
    "# Histogram"
   ]
  },
  {
   "cell_type": "code",
   "execution_count": null,
   "metadata": {},
   "outputs": [],
   "source": [
    "import numpy as np\n",
    "import matplotlib.pyplot as plt\n",
    "\n",
    "x = 200 * np.random.randn(1000)\n",
    "plt.hist(x)\n",
    "plt.show()"
   ]
  },
  {
   "cell_type": "code",
   "execution_count": null,
   "metadata": {},
   "outputs": [],
   "source": [
    "plt.hist(x,\n",
    "        100, # bin number\n",
    "        range=(-500, 500),\n",
    "        histtype='stepfilled',\n",
    "        align='mid',\n",
    "        color='orange',\n",
    "        label='test data')\n",
    "plt.legend()\n",
    "plt.show()"
   ]
  }
 ],
 "metadata": {
  "kernelspec": {
   "display_name": "Python 3",
   "language": "python",
   "name": "python3"
  },
  "language_info": {
   "codemirror_mode": {
    "name": "ipython",
    "version": 3
   },
   "file_extension": ".py",
   "mimetype": "text/x-python",
   "name": "python",
   "nbconvert_exporter": "python",
   "pygments_lexer": "ipython3",
   "version": "3.8.3"
  }
 },
 "nbformat": 4,
 "nbformat_minor": 4
}
