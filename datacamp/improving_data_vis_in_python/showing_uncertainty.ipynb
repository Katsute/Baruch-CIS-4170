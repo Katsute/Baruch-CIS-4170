{
 "cells": [
  {
   "cell_type": "code",
   "execution_count": null,
   "metadata": {},
   "outputs": [],
   "source": [
    "# Construct CI bounds for averages\n",
    "average_ests['lower'] = average_ests['mean'] - 1.96*average_ests['std_err']\n",
    "average_ests['upper'] = average_ests['mean'] + 1.96*average_ests['std_err']\n",
    "\n",
    "# Setup a grid of plots, with non-shared x axes limits\n",
    "g = sns.FacetGrid(average_ests, row = 'pollutant', sharex = False)\n",
    "\n",
    "# Plot CI for average estimate\n",
    "g.map(plt.hlines, 'y', 'lower', 'upper')\n",
    "\n",
    "# Plot observed values for comparison and remove axes labels\n",
    "g.map(plt.scatter, 'seen', 'y', color = 'orangered').set_ylabels('').set_xlabels('') \n",
    "\n",
    "plt.show()"
   ]
  },
  {
   "cell_type": "code",
   "execution_count": null,
   "metadata": {},
   "outputs": [],
   "source": [
    "# Set start and ends according to intervals \n",
    "# Make intervals thicker\n",
    "plt.hlines(y = 'year', xmin = 'lower', xmax = 'upper', \n",
    "           linewidth = 5, color = 'steelblue', alpha = 0.7,\n",
    "           data = diffs_by_year)\n",
    "# Point estimates\n",
    "plt.plot('mean', 'year', 'k|', data = diffs_by_year)\n",
    "\n",
    "# Add a 'null' reference line at 0 and color orangered\n",
    "plt.axvline(x = 0, color = 'orangered', linestyle = '--')\n",
    "\n",
    "# Set descriptive axis labels and title\n",
    "plt.xlabel('95% CI')\n",
    "plt.title('Avg SO2 differences between Cincinnati and Indianapolis')\n",
    "plt.show()"
   ]
  },
  {
   "cell_type": "code",
   "execution_count": null,
   "metadata": {},
   "outputs": [],
   "source": [
    "# Draw 99% inverval bands for average NO2\n",
    "vandenberg_NO2['lower'] = vandenberg_NO2['mean'] - 2.58*vandenberg_NO2['std_err']\n",
    "vandenberg_NO2['upper'] = vandenberg_NO2['mean'] + 2.58*vandenberg_NO2['std_err']\n",
    "\n",
    "# Plot mean estimate as a white semi-transparent line\n",
    "plt.plot('day', 'mean', data = vandenberg_NO2,\n",
    "         color = 'white', alpha = 0.4)\n",
    "\n",
    "# Fill between the upper and lower confidence band values\n",
    "plt.fill_between(x = 'day', \n",
    "                 y1 = 'lower', y2 = 'upper', \n",
    "                 data = vandenberg_NO2)\n",
    "\n",
    "plt.show()"
   ]
  },
  {
   "cell_type": "code",
   "execution_count": null,
   "metadata": {},
   "outputs": [],
   "source": [
    "# Setup a grid of plots with columns divided by location\n",
    "g = sns.FacetGrid(eastern_SO2, col = 'city', col_wrap = 2)\n",
    "\n",
    "# Map interval plots to each cities data with corol colored ribbons\n",
    "g.map(plt.fill_between, 'day', 'lower', 'upper', color = 'coral')\n",
    "\n",
    "# Map overlaid mean plots with white line\n",
    "g.map(plt.plot, 'day', 'mean', color = 'white')\n",
    "\n",
    "plt.show()"
   ]
  },
  {
   "cell_type": "code",
   "execution_count": null,
   "metadata": {},
   "outputs": [],
   "source": [
    "for city, color in [('Denver',\"#66c2a5\"), ('Long Beach', \"#fc8d62\")]:\n",
    "    # Filter data to desired city\n",
    "    city_data = SO2_compare[SO2_compare.city  ==  city]\n",
    "\n",
    "    # Set city interval color to desired and lower opacity\n",
    "    plt.fill_between(x = 'day', y1 = 'lower', y2 = 'upper', data = city_data,\n",
    "                     color = color, alpha = 0.4)\n",
    "    \n",
    "    # Draw a faint mean line for reference and give a label for legend\n",
    "    plt.plot('day','mean', data = city_data, label = city,\n",
    "             color = color, alpha = 0.25)\n",
    "\n",
    "plt.legend()\n",
    "plt.show()"
   ]
  },
  {
   "cell_type": "code",
   "execution_count": null,
   "metadata": {},
   "outputs": [],
   "source": [
    "# Add interval percent widths\n",
    "alphas = [     0.01,  0.05,   0.1] \n",
    "widths = [ '99% CI', '95%', '90%']\n",
    "colors = ['#fee08b','#fc8d59','#d53e4f']\n",
    "\n",
    "for alpha, color, width in zip(alphas, colors, widths):\n",
    "    # Grab confidence interval\n",
    "    conf_ints = pollution_model.conf_int(alpha)\n",
    "    \n",
    "    # Pass current interval color and legend label to plot\n",
    "    plt.hlines(y = conf_ints.index, xmin = conf_ints[0], xmax = conf_ints[1],\n",
    "               colors = color, label = width, linewidth = 10) \n",
    "\n",
    "# Draw point estimates\n",
    "plt.plot(pollution_model.params, pollution_model.params.index, 'wo', label = 'Point Estimate')\n",
    "\n",
    "plt.legend()\n",
    "plt.show() "
   ]
  },
  {
   "cell_type": "code",
   "execution_count": null,
   "metadata": {},
   "outputs": [],
   "source": [
    "int_widths = ['90%', '99%']\n",
    "z_scores = [1.67, 2.58]\n",
    "colors = ['#fc8d59', '#fee08b']\n",
    "\n",
    "for percent, Z, color in zip(int_widths, z_scores, colors):\n",
    "    \n",
    "    # Pass lower and upper confidence bounds and lower opacity\n",
    "    plt.fill_between(\n",
    "        x = cinci_13_no2.day, alpha = 0.4, color = color,\n",
    "        y1 = cinci_13_no2['mean'] - 2*cinci_13_no2['std_err'],\n",
    "        y2 = cinci_13_no2['mean'] + 2*cinci_13_no2['std_err'],\n",
    "        label = percent)\n",
    "    \n",
    "plt.legend()\n",
    "plt.show()"
   ]
  },
  {
   "cell_type": "code",
   "execution_count": null,
   "metadata": {},
   "outputs": [],
   "source": [
    "# Decrase interval thickness as interval widens\n",
    "sizes =      [    15,  10,  5]\n",
    "int_widths = ['90% CI', '95%', '99%']\n",
    "z_scores =   [    1.67,  1.96,  2.58]\n",
    "\n",
    "for percent, Z, size in zip(int_widths, z_scores, sizes):\n",
    "    plt.hlines(y = rocket_model.pollutant, \n",
    "               xmin = rocket_model['est'] - Z*rocket_model['std_err'],\n",
    "               xmax = rocket_model['est'] + Z*rocket_model['std_err'],\n",
    "               label = percent, \n",
    "               # Resize lines and color them gray\n",
    "               linewidth = sizes, \n",
    "               color = 'gray') \n",
    "    \n",
    "# Add point estimate\n",
    "plt.plot('est', 'pollutant', 'wo', data = rocket_model, label = 'Point Estimate')\n",
    "plt.legend(loc = 'center left', bbox_to_anchor = (1, 0.5))\n",
    "plt.show()"
   ]
  },
  {
   "cell_type": "code",
   "execution_count": null,
   "metadata": {},
   "outputs": [],
   "source": [
    "cinci_may_NO2 = pollution.query(\"city  ==  'Cincinnati' & month  ==  5\").NO2\n",
    "\n",
    "# Generate bootstrap samples\n",
    "boot_means = bootstrap(cinci_may_NO2, 1000)\n",
    "\n",
    "# Get lower and upper 95% interval bounds\n",
    "lower, upper = np.percentile(boot_means, [2.5, 97.5])\n",
    "\n",
    "# Plot shaded area for interval\n",
    "plt.axvspan(lower, upper, color = 'gray', alpha = 0.2)\n",
    "\n",
    "# Draw histogram of bootstrap samples\n",
    "sns.distplot(boot_means, bins = 100, kde = False)\n",
    "\n",
    "plt.show()"
   ]
  },
  {
   "cell_type": "code",
   "execution_count": null,
   "metadata": {},
   "outputs": [],
   "source": [
    "sns.lmplot('NO2', 'SO2', data = no2_so2_boot,\n",
    "           # Tell seaborn to a regression line for each sample\n",
    "           hue = 'sample', \n",
    "           # Make lines blue and transparent\n",
    "           line_kws = {'color': 'steelblue', 'alpha': 0.2},\n",
    "           # Disable built-in confidence intervals\n",
    "           ci = None, legend = False, scatter = False)\n",
    "\n",
    "# Draw scatter of all points\n",
    "plt.scatter('NO2', 'SO2', data = no2_so2)\n",
    "\n",
    "plt.show()"
   ]
  },
  {
   "cell_type": "code",
   "execution_count": null,
   "metadata": {},
   "outputs": [],
   "source": [
    "# Initialize a holder DataFrame for bootstrap results\n",
    "city_boots = pd.DataFrame()\n",
    "\n",
    "for city in ['Cincinnati', 'Des Moines', 'Indianapolis', 'Houston']:\n",
    "    # Filter to city\n",
    "    city_NO2 = pollution_may[pollution_may.city  ==  city].NO2\n",
    "    # Bootstrap city data & put in DataFrame\n",
    "    cur_boot = pd.DataFrame({'NO2_avg': bootstrap(city_NO2, 100), 'city': city})\n",
    "    # Append to other city's bootstraps\n",
    "    city_boots = pd.concat([city_boots,cur_boot])\n",
    "\n",
    "# Beeswarm plot of averages with citys on y axis\n",
    "sns.swarmplot(y = \"city\", x = \"NO2_avg\", data = city_boots, color = 'coral')\n",
    "\n",
    "plt.show()"
   ]
  }
 ],
 "metadata": {
  "kernelspec": {
   "display_name": "Python 3",
   "language": "python",
   "name": "python3"
  },
  "language_info": {
   "codemirror_mode": {
    "name": "ipython",
    "version": 3
   },
   "file_extension": ".py",
   "mimetype": "text/x-python",
   "name": "python",
   "nbconvert_exporter": "python",
   "pygments_lexer": "ipython3",
   "version": "3.8.3"
  }
 },
 "nbformat": 4,
 "nbformat_minor": 4
}
