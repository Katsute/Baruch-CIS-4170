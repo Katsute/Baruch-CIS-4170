{
 "cells": [
  {
   "cell_type": "code",
   "execution_count": null,
   "metadata": {},
   "outputs": [],
   "source": [
    "# Print first three rows of data and transpose\n",
    "first_rows = markets.head(3).transpose()\n",
    "print(first_rows)\n",
    "\n",
    "# Get descriptions of every column\n",
    "col_descriptions = markets.describe(include = 'all',\n",
    "                                percentiles = [0.5]).transpose()\n",
    "print(col_descriptions)"
   ]
  },
  {
   "cell_type": "code",
   "execution_count": null,
   "metadata": {},
   "outputs": [],
   "source": [
    "# Select just the numeric columns (exluding individual goods)\n",
    "numeric_columns = ['lat', 'lon', 'months_open', 'num_items_sold', 'state_pop']\n",
    "\n",
    "# Make a scatter matrix of numeric columns\n",
    "pd.plotting.scatter_matrix(markets[numeric_columns], \n",
    "                             # Make figure large to show details\n",
    "                             figsize = (15,10), \n",
    "                           # Lower point opacity to show overlap\n",
    "                           alpha = .5)\n",
    "\n",
    "plt.show()"
   ]
  },
  {
   "cell_type": "code",
   "execution_count": null,
   "metadata": {},
   "outputs": [],
   "source": [
    "# Create a new logged population column \n",
    "markets['log_pop'] = np.log(markets['state_pop'])\n",
    "\n",
    "# Draw a scatterplot of log-population to # of items sold\n",
    "sns.scatterplot(x = 'log_pop', \n",
    "                  y = 'num_items_sold', \n",
    "                  # Reduce point opacity to show overlap\n",
    "                  alpha = .25, \n",
    "                  data = markets)\n",
    "\n",
    "plt.show()"
   ]
  },
  {
   "cell_type": "code",
   "execution_count": null,
   "metadata": {},
   "outputs": [],
   "source": [
    "sns.regplot(x = 'lat', \n",
    "            y = 'months_open', \n",
    "            # Set scatter point opacity & color\n",
    "            scatter_kws = {'alpha':.1, 'color':'gray'}, \n",
    "            # Disable confidence band\n",
    "            ci = False, \n",
    "            data = markets)\n",
    "\n",
    "plt.show()"
   ]
  },
  {
   "cell_type": "code",
   "execution_count": null,
   "metadata": {},
   "outputs": [],
   "source": [
    "g = sns.regplot(\n",
    "    \"log_markets\", \"log_pop\", \n",
    "    ci = False,\n",
    "    # Shrink scatter plot points\n",
    "    scatter_kws = {'s':2},\n",
    "    data = markets_and_pop)\n",
    "\n",
    "# Iterate over the rows of the data\n",
    "for col, row in markets_and_pop.iterrows():\n",
    "    state, col, row, log_markets, log_pop = row\n",
    "    # Place annotation and reduce size for clarity\n",
    "    g.annotate(state, (col,row), size = 10)\n",
    "\n",
    "plt.show()"
   ]
  },
  {
   "cell_type": "code",
   "execution_count": null,
   "metadata": {},
   "outputs": [],
   "source": [
    "g = sns.regplot(\n",
    "    \"log_markets\", \"log_pop\", \n",
    "    ci = False,\n",
    "    # Shrink scatter plot points\n",
    "    scatter_kws = {'s':2},\n",
    "    data = markets_and_pop)\n",
    "\n",
    "# Iterate over the rows of the data\n",
    "for index, row in markets_and_pop.iterrows():\n",
    "    state, index, index, log_markets, log_pop = row\n",
    "    # Place annotation and reduce size for clarity\n",
    "    g.annotate(state, (log_markets,log_pop), size = 10)\n",
    "\n",
    "plt.show()"
   ]
  },
  {
   "cell_type": "code",
   "execution_count": null,
   "metadata": {},
   "outputs": [],
   "source": [
    "# Subset goods to interesting ones\n",
    "to_plot = ['Cheese','Maple','Fruits','Grains','Seafood','Plants','Vegetables']\n",
    "goods_by_state_small = goods_by_state.query(\"good in \"+str(to_plot))\n",
    "\n",
    "g = sns.scatterplot('good','prop_selling', data = goods_by_state_small,\n",
    "                    # Hide scatter points by shrinking to nothing\n",
    "                    s = 0)\n",
    "\n",
    "for index,row in goods_by_state_small.iterrows():\n",
    "  g.annotate(row['state'], (row['good'], row['prop_selling']), \n",
    "             # Center annotation on axis\n",
    "             ha = 'center', \n",
    "             size = 10)\n",
    "\n",
    "plt.show()"
   ]
  },
  {
   "cell_type": "code",
   "execution_count": null,
   "metadata": {},
   "outputs": [],
   "source": [
    "# Setup two stacked plots\n",
    "fig, (ax1, ax2) = plt.subplots(2, 1)\n",
    "\n",
    "# Draw location scatter plot on first plot\n",
    "sns.scatterplot(\"lon\", \"lat\", 'months_open', \n",
    "                palette = sns.light_palette(\"orangered\",n_colors = 12), \n",
    "                legend = False, data = markets,\n",
    "                ax = ax1);\n",
    "\n",
    "# Plot a regression plot on second plot\n",
    "sns.regplot('lon', 'months_open',\n",
    "            scatter_kws = {'alpha': 0.2, 'color': 'gray', 'marker': '|'},\n",
    "            lowess = True,\n",
    "            marker = '|', data = markets, \n",
    "            ax = ax2)\n",
    "\n",
    "plt.show()"
   ]
  },
  {
   "cell_type": "code",
   "execution_count": null,
   "metadata": {},
   "outputs": [],
   "source": [
    "# Set up two side-by-side plots\n",
    "f, (ax1, ax2) = plt.subplots(1, 2, figsize = (15, 15))\n",
    "\n",
    "# Map the column for selected states to the bar color\n",
    "sns.barplot('people_per_market', 'state', hue = 'is_selected',\n",
    "            # Disable dodge so bars are full size\n",
    "            dodge = False, \n",
    "            data = markets_by_state, ax = ax1)\n",
    "\n",
    "# Map selected states to point color\n",
    "sns.scatterplot('log_pop', 'log_markets', hue = 'is_selected', \n",
    "                data = markets_by_state, ax = ax2, s = 100)\n",
    "\n",
    "# Remove the legend for both plots\n",
    "ax1.legend_.remove()\n",
    "ax2.legend_.remove() \n",
    "plt.show() "
   ]
  },
  {
   "cell_type": "code",
   "execution_count": null,
   "metadata": {},
   "outputs": [],
   "source": [
    "# Set background to white with grid\n",
    "sns.set_style('whitegrid')\n",
    "\n",
    "plt.scatter('good','prop selling', marker = '_', alpha = 0.7, data = goods_by_state)\n",
    "\n",
    "# Draw lines across goods for highlighted states\n",
    "highlighted = goods_by_state.query(\"state in ['New Mexico','North Dakota','Vermont']\")\n",
    "sns.lineplot('good','prop selling', 'state', data = highlighted, legend = False)\n",
    "\n",
    "# Draw state name at end of lines\n",
    "last_rows = highlighted.groupby('state', as_index = False).agg('first')\n",
    "for _,row in last_rows.iterrows():\n",
    "    plt.annotate(row['state'], (row['good'], row['prop selling']),\n",
    "                 ha = 'right', xytext = (5,0), textcoords = 'offset pixels')\n",
    "\n",
    "# Remove all borders\n",
    "sns.despine(bottom = True, left = True)\n",
    "plt.show()"
   ]
  },
  {
   "cell_type": "code",
   "execution_count": null,
   "metadata": {},
   "outputs": [],
   "source": [
    "# Decrease font size so state names are less crowded\n",
    "sns.set(font_scale = .85)\n",
    "\n",
    "# Switch to an appropriate color palette\n",
    "blue_pal = sns.light_palette(\"steelblue\", as_cmap = True)\n",
    "\n",
    "# Order states by latitude\n",
    "g = sns.heatmap(markets_by_month.reindex(state_by_lat), \n",
    "            # Add gaps between cells\n",
    "            linewidths = 0.1, \n",
    "            # Set new palette and remove color bar \n",
    "            cmap = blue_pal, cbar = False,\n",
    "            yticklabels = True)\n",
    "\n",
    "# Rotate y-axis ticks \n",
    "g.set_yticklabels(g.get_yticklabels(), rotation = 0)\n",
    "plt.title('Distribution of months open for farmers markets by latitude')\n",
    "plt.show()"
   ]
  },
  {
   "cell_type": "code",
   "execution_count": null,
   "metadata": {},
   "outputs": [],
   "source": [
    "# Draw barplot w/ colors mapped to state_colors vector\n",
    "sns.barplot('people_per_market', 'state', palette = state_colors,\n",
    "            data = markets_by_state, ax = ax1)\n",
    "\n",
    "# Map state colors vector to the scatterplot as well\n",
    "p = sns.scatterplot('population', 'num_markets', color = state_colors,\n",
    "                    data = markets_by_state, s = 60, ax = ax2)\n",
    "\n",
    "# Log the x and y scales of our scatter plot so it's easier to read\n",
    "ax2.set(xscale = \"log\", yscale = 'log')\n",
    "\n",
    "# Increase annotation text size for legibility\n",
    "ax2.annotate(tx_message, xy = (26956958,230), \n",
    "             xytext = (26956958, 450),ha = 'right', \n",
    "             size = 15, backgroundcolor = 'white',\n",
    "             arrowprops = {'facecolor':'black', 'width': 3})\n",
    "sns.set_style('whitegrid')\n",
    "plt.show()"
   ]
  }
 ],
 "metadata": {
  "kernelspec": {
   "display_name": "Python 3",
   "language": "python",
   "name": "python3"
  },
  "language_info": {
   "codemirror_mode": {
    "name": "ipython",
    "version": 3
   },
   "file_extension": ".py",
   "mimetype": "text/x-python",
   "name": "python",
   "nbconvert_exporter": "python",
   "pygments_lexer": "ipython3",
   "version": "3.8.3"
  }
 },
 "nbformat": 4,
 "nbformat_minor": 4
}
