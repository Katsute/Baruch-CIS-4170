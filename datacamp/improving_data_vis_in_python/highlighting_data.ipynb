{
 "cells": [
  {
   "cell_type": "code",
   "execution_count": null,
   "metadata": {},
   "outputs": [],
   "source": [
    "houston_pollution = pollution[pollution.city  ==  'Houston']\n",
    "\n",
    "# Make array orangred for day 330 of year 2014, otherwise lightgray\n",
    "houston_colors = ['orangered' if (day ==  330) & (year ==  2014) else 'lightgray' \n",
    "                  for day,year in zip(houston_pollution.day, houston_pollution.year)]\n",
    "\n",
    "sns.regplot(x = 'NO2',\n",
    "            y = 'SO2',\n",
    "            data = houston_pollution,\n",
    "            fit_reg = False, \n",
    "            # Send scatterplot argument to color points \n",
    "            scatter_kws = {'facecolors': houston_colors, 'alpha': 0.7})\n",
    "plt.show()"
   ]
  },
  {
   "cell_type": "code",
   "execution_count": null,
   "metadata": {},
   "outputs": [],
   "source": [
    "houston_pollution = pollution[pollution.city  ==  'Houston'].copy()\n",
    "\n",
    "# Find the highest observed O3 value\n",
    "max_O3 = houston_pollution.O3.max()\n",
    "\n",
    "# Make a column that denotes which day had highest O3\n",
    "houston_pollution[\"point_type\"] = ['Highest O3 Day' if O3 == max_O3 else 'Others' for O3 in houston_pollution.O3]\n",
    "\n",
    "# Encode the hue of the points with the O3 generated column\n",
    "sns.scatterplot(x = 'NO2',\n",
    "                y = 'SO2',\n",
    "                hue = 'point_type',\n",
    "                data = houston_pollution)\n",
    "plt.show()"
   ]
  },
  {
   "cell_type": "code",
   "execution_count": null,
   "metadata": {},
   "outputs": [],
   "source": [
    "# Filter dataset to the year 2012\n",
    "sns.kdeplot(pollution[pollution.year == 2012].O3, \n",
    "            # Shade under kde and add a helpful label\n",
    "            shade = True,\n",
    "            label = '2012')\n",
    "\n",
    "# Filter dataset to everything except the year 2012\n",
    "sns.kdeplot(pollution[pollution.year != 2012].O3, \n",
    "            # Again, shade under kde and add a helpful label\n",
    "            shade = True,\n",
    "            label = 'other years')\n",
    "plt.show()"
   ]
  },
  {
   "cell_type": "code",
   "execution_count": null,
   "metadata": {},
   "outputs": [],
   "source": [
    "sns.distplot(pollution[pollution.city == 'Vandenberg Air Force Base'].O3, \n",
    "             label = 'Vandenberg', \n",
    "             # Turn of the histogram and color blue to stand out\n",
    "             hist = False,\n",
    "             color = 'steelblue', \n",
    "             # Turn on rugplot\n",
    "             rug = True)\n",
    "\n",
    "sns.distplot(pollution[pollution.city != 'Vandenberg Air Force Base'].O3, \n",
    "             label = 'Other cities',\n",
    "             # Turn off histogram and color gray\n",
    "             hist = False,  \n",
    "             color = 'gray')\n",
    "plt.show()"
   ]
  },
  {
   "cell_type": "code",
   "execution_count": null,
   "metadata": {},
   "outputs": [],
   "source": [
    "# Filter data to just March\n",
    "pollution_mar = pollution[pollution.month == 3]\n",
    "\n",
    "# Plot beeswarm with x as O3\n",
    "sns.swarmplot(y = \"city\",\n",
    "              x = 'O3', \n",
    "              data = pollution_mar, \n",
    "              # Decrease the size of the points to avoid crowding \n",
    "              size = 3)\n",
    "\n",
    "# Give a descriptive title\n",
    "plt.title('March Ozone levels by city')\n",
    "plt.show()"
   ]
  },
  {
   "cell_type": "code",
   "execution_count": null,
   "metadata": {},
   "outputs": [],
   "source": [
    "# Draw basic scatter plot of pollution data for August\n",
    "sns.scatterplot(x = 'CO', y = 'SO2', data = pollution[pollution.month == 8])\n",
    "\n",
    "# Label highest SO2 value with text annotation\n",
    "plt.text(0.57, 41,\n",
    "         'Cincinnati had highest observed\\nSO2 value on Aug 11, 2013', \n",
    "         # Set the font to large\n",
    "         fontdict = {'ha': 'left', 'size': 'large'})\n",
    "plt.show()"
   ]
  },
  {
   "cell_type": "code",
   "execution_count": null,
   "metadata": {},
   "outputs": [],
   "source": [
    "# Query and filter to New Years in Long Beach\n",
    "jan_pollution = pollution.query(\"(month  ==  1) & (year  ==  2012)\")\n",
    "lb_newyears = jan_pollution.query(\"(day  ==  1) & (city  ==  'Long Beach')\")\n",
    "\n",
    "sns.scatterplot(x = 'CO', y = 'NO2',\n",
    "                data = jan_pollution)\n",
    "\n",
    "# Point arrow to lb_newyears & place text in lower left \n",
    "plt.annotate('Long Beach New Years',\n",
    "             xy = (lb_newyears['CO'], lb_newyears['NO2']),\n",
    "             xytext = (2, 15), \n",
    "             # Shrink the arrow to avoid occlusion\n",
    "             arrowprops = {'facecolor':'gray', 'width': 3, 'shrink': 0.03},\n",
    "             backgroundcolor = 'white')\n",
    "plt.show()"
   ]
  },
  {
   "cell_type": "code",
   "execution_count": null,
   "metadata": {},
   "outputs": [],
   "source": [
    "# Make a vector where Long Beach is orangered; else lightgray\n",
    "is_lb = ['orangered' if city  ==  'Long Beach' else 'lightgray' for city in pollution['city']]"
   ]
  },
  {
   "cell_type": "code",
   "execution_count": null,
   "metadata": {},
   "outputs": [],
   "source": [
    "# Make a vector where Long Beach is orangered; else lightgray\n",
    "is_lb = ['orangered' if city  ==  'Long Beach' else 'lightgray' for city in pollution['city']]\n",
    "\n",
    "# Map facecolors to the list is_lb and set alpha to 0.3\n",
    "sns.regplot(x = 'CO',\n",
    "            y = 'O3',\n",
    "            data = pollution,\n",
    "            fit_reg = False, \n",
    "            scatter_kws = {'facecolors':is_lb, 'alpha':0.3})\n",
    "plt.show() "
   ]
  },
  {
   "cell_type": "code",
   "execution_count": null,
   "metadata": {},
   "outputs": [],
   "source": [
    "# Make a vector where Long Beach is orangered; else lightgray\n",
    "is_lb = ['orangered' if city  ==  'Long Beach' else 'lightgray' for city in pollution['city']]\n",
    "\n",
    "# Map facecolors to the list is_lb and set alpha to 0.3\n",
    "sns.regplot(x = 'CO',\n",
    "            y = 'O3',\n",
    "            data = pollution,\n",
    "            fit_reg = False,\n",
    "            scatter_kws = {'facecolors':is_lb, 'alpha': 0.3})\n",
    "\n",
    "# Add annotation to plot\n",
    "plt.text(1.6, 0.072, 'April 30th, Bad Day')\n",
    "plt.show() "
   ]
  }
 ],
 "metadata": {
  "kernelspec": {
   "display_name": "Python 3",
   "language": "python",
   "name": "python3"
  },
  "language_info": {
   "codemirror_mode": {
    "name": "ipython",
    "version": 3
   },
   "file_extension": ".py",
   "mimetype": "text/x-python",
   "name": "python",
   "nbconvert_exporter": "python",
   "pygments_lexer": "ipython3",
   "version": "3.8.3"
  }
 },
 "nbformat": 4,
 "nbformat_minor": 4
}
