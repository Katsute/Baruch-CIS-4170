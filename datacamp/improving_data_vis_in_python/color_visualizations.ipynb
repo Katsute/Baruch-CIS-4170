{
 "cells": [
  {
   "cell_type": "code",
   "execution_count": null,
   "metadata": {},
   "outputs": [],
   "source": [
    "# Hard to read scatter of CO and NO2 w/ color mapped to city\n",
    "# sns.scatterplot('CO', 'NO2',\n",
    "#                 alpha = 0.2,\n",
    "#                 hue = 'city',\n",
    "#                 data = pollution)\n",
    "\n",
    "# Setup a facet grid to separate the cities apart\n",
    "g = sns.FacetGrid(data = pollution,\n",
    "                  col = 'city',\n",
    "                  col_wrap = 3)\n",
    "\n",
    "# Map sns.scatterplot to create separate city scatter plots\n",
    "g.map(sns.scatterplot, 'CO', 'NO2', alpha = 0.2)\n",
    "plt.show()"
   ]
  },
  {
   "cell_type": "code",
   "execution_count": null,
   "metadata": {},
   "outputs": [],
   "source": [
    "import numpy as np\n",
    "\n",
    "sns.barplot(y = 'city', x = 'CO', \n",
    "              estimator = np.mean,\n",
    "            ci = False,\n",
    "              data = pollution,\n",
    "              # Add a border to the bars\n",
    "            edgecolor = 'black')\n",
    "plt.show()"
   ]
  },
  {
   "cell_type": "code",
   "execution_count": null,
   "metadata": {},
   "outputs": [],
   "source": [
    "import numpy as np\n",
    "\n",
    "sns.barplot(y = 'city', x = 'CO', \n",
    "              estimator = np.mean,\n",
    "            ci = False,\n",
    "              data = pollution,\n",
    "              # Replace border with bar colors\n",
    "            color = 'cadetblue')\n",
    "plt.show()"
   ]
  },
  {
   "cell_type": "code",
   "execution_count": null,
   "metadata": {},
   "outputs": [],
   "source": [
    "# Filter the data\n",
    "cinci_2014 = pollution.query(\"city  ==  'Cincinnati' & year  ==  2014\")\n",
    "\n",
    "# Define a custom continuous color palette\n",
    "color_palette = sns.light_palette('orangered',\n",
    "                         as_cmap = True)\n",
    "\n",
    "# Plot mapping the color of the points with custom palette\n",
    "sns.scatterplot(x = 'CO',\n",
    "                y = 'NO2',\n",
    "                hue = 'O3', \n",
    "                data = cinci_2014,\n",
    "                palette = color_palette)\n",
    "plt.show()"
   ]
  },
  {
   "cell_type": "code",
   "execution_count": null,
   "metadata": {},
   "outputs": [],
   "source": [
    "# Define a custom palette\n",
    "color_palette = sns.diverging_palette(250, 0, as_cmap = True)\n",
    "\n",
    "# Pass palette to plot and set axis ranges\n",
    "sns.heatmap(nov_2015_CO,\n",
    "            cmap = color_palette,\n",
    "            center = 0,\n",
    "            vmin = -4,\n",
    "            vmax = 4)\n",
    "plt.yticks(rotation = 0)\n",
    "plt.show()"
   ]
  },
  {
   "cell_type": "code",
   "execution_count": null,
   "metadata": {},
   "outputs": [],
   "source": [
    "# Dark plot background\n",
    "plt.style.use(\"dark_background\")\n",
    "\n",
    "# Modify palette for dark background\n",
    "color_palette = sns.diverging_palette(250, 0,\n",
    "                                      center = 'dark',\n",
    "                                      as_cmap = True)\n",
    "\n",
    "# Pass palette to plot and set center\n",
    "sns.heatmap(oct_2015_o3,\n",
    "            cmap = color_palette,\n",
    "            center = 0)\n",
    "plt.yticks(rotation = 0)\n",
    "plt.show()"
   ]
  },
  {
   "cell_type": "code",
   "execution_count": null,
   "metadata": {},
   "outputs": [],
   "source": [
    "# Filter our data to Jan 2013\n",
    "pollution_jan13 = pollution.query('year == 2013 & month == 1')\n",
    "\n",
    "# Color lines by the city and use custom ColorBrewer palette\n",
    "sns.lineplot(x = \"day\", \n",
    "             y = \"CO\", \n",
    "             hue = \"city\",\n",
    "             palette = \"Set2\", \n",
    "             linewidth = 3,\n",
    "             data = pollution_jan13)\n",
    "plt.show()"
   ]
  },
  {
   "cell_type": "code",
   "execution_count": null,
   "metadata": {},
   "outputs": [],
   "source": [
    "# Choose the combos that get distinct colors\n",
    "wanted_combos = ['Vandenberg Air Force Base NO2', 'Long Beach CO', 'Cincinnati SO2']\n",
    "\n",
    "# Assign a new column to DataFrame for isolating the desired combos\n",
    "city_pol_month['color_cats'] = [x if x in wanted_combos else 'other' for x in city_pol_month['city_pol']]\n",
    "\n",
    "# Plot lines with color driven by new column and lines driven by original categories\n",
    "sns.lineplot(x = \"month\",\n",
    "             y = \"value\",\n",
    "             hue = 'color_cats',\n",
    "             units = 'city_pol',\n",
    "             estimator = None,\n",
    "             palette = 'Set2',\n",
    "             data = city_pol_month)\n",
    "plt.show()"
   ]
  },
  {
   "cell_type": "code",
   "execution_count": null,
   "metadata": {},
   "outputs": [],
   "source": [
    "# Divide CO into quartiles\n",
    "pollution['CO quartile'] = pd.qcut(pollution['CO'], q = 4, labels = False)\n",
    "\n",
    "# Filter to just Des Moines\n",
    "des_moines = pollution.query(\"city == 'Des Moines'\")\n",
    "\n",
    "# Color points with by quartile and use ColorBrewer palette\n",
    "sns.scatterplot(x = 'SO2',\n",
    "                y = 'NO2',\n",
    "                hue = 'CO quartile', \n",
    "                  data = des_moines,\n",
    "                palette = 'GnBu')\n",
    "plt.show()"
   ]
  },
  {
   "cell_type": "code",
   "execution_count": null,
   "metadata": {},
   "outputs": [],
   "source": [
    "# Reduce to just cities in the western half of US\n",
    "cities = ['Fairbanks', 'Long Beach', 'Vandenberg Air Force Base', 'Denver']\n",
    "\n",
    "# Filter data to desired cities\n",
    "city_maxes = max_pollutant_values[max_pollutant_values.city.isin(cities)]\n",
    "\n",
    "# Swap city and year encodings\n",
    "sns.catplot(x = 'city', hue = 'year',\n",
    "              y = 'value', row = 'pollutant',    \n",
    "              # Change palette to one appropriate for ordinal categories\n",
    "              data = city_maxes, palette = 'BuGn',\n",
    "              sharey = False, kind = 'bar')\n",
    "plt.show()"
   ]
  }
 ],
 "metadata": {
  "kernelspec": {
   "display_name": "Python 3",
   "language": "python",
   "name": "python3"
  },
  "language_info": {
   "codemirror_mode": {
    "name": "ipython",
    "version": 3
   },
   "file_extension": ".py",
   "mimetype": "text/x-python",
   "name": "python",
   "nbconvert_exporter": "python",
   "pygments_lexer": "ipython3",
   "version": "3.8.3"
  }
 },
 "nbformat": 4,
 "nbformat_minor": 4
}
